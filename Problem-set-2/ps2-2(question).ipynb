{
 "cells": [
  {
   "cell_type": "markdown",
   "metadata": {},
   "source": [
    "### It is clearly, when we add the interception, the equatioin (1) \n",
    "$$\\begin{align*}\n",
    "\\sum_{i=1}^{m}y^{(i)} = \\boldsymbol{1} \\{y^{(i)} = 1\\} = \\sum_{i=1}^{m}h(x^{(i)}) = \\sum_{i=1}^{m} P(y^{(i)}=1|x^{(i)};\\theta)\n",
    "\\end{align*} \\tag{1}$$ \n",
    "### could be easily satisfied through equation (2) \n",
    "$$X^T(Y - h(X)) = \\boldsymbol{0} \\tag{2}$$ \n",
    "### However, in (c), when we add L2 regularization, things change, (2) will be altered to (3), \n",
    "$$X^T(Y - h(X)) + 2 \\theta = \\boldsymbol{0}​ \\tag{3}$$ \n",
    "### Obviously, equation(1) could not hold, and the modelcould not be well-calibrated."
   ]
  },
  {
   "cell_type": "code",
   "execution_count": null,
   "metadata": {
    "collapsed": true
   },
   "outputs": [],
   "source": []
  }
 ],
 "metadata": {
  "kernelspec": {
   "display_name": "Python 3",
   "language": "python",
   "name": "python3"
  },
  "language_info": {
   "codemirror_mode": {
    "name": "ipython",
    "version": 3
   },
   "file_extension": ".py",
   "mimetype": "text/x-python",
   "name": "python",
   "nbconvert_exporter": "python",
   "pygments_lexer": "ipython3",
   "version": "3.5.5"
  }
 },
 "nbformat": 4,
 "nbformat_minor": 2
}
